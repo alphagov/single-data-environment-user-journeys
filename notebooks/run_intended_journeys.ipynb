{
 "cells": [
  {
   "cell_type": "markdown",
   "metadata": {},
   "source": [
    "# Identify Intended Journeys Across Domains\n",
    "\n",
    "Generate `all simple paths` from all source to target nodes. `All simple paths` are all possible paths from source to target nodes, with no repeated nodes.  \n",
    "\n",
    "It is likely that a large number of simple paths will be returned. Therefore, it is possible to `rank all simple paths`. A variety of methods can be applied, but all come with assumptions. The ranking methods applied are:\n",
    "\n",
    "- shortest paths \n",
    "- pageRank\n",
    "- closeness centrality\n",
    "- betweenness centrality \n",
    "- eigenvector centrality \n",
    "\n",
    "This notebook also allows you to `compare all intended paths to all functional paths`. This provides you with *1)* the structural journeys that appear in the functional journeys, *2)* the structural journeys that do not appear in the functional journeys. \n",
    "\n",
    "Note: `pages` and `nodes` are used interchangeably throughout this notebook.\n",
    "\n",
    "#### Ranking method, assumptions, and conclusions\n",
    "\n",
    "`Rank via shortest paths`\n",
    "\n",
    "Method: Orders by shortest path to longest path.\n",
    "\n",
    "Assumptions: This assumes that content designers design a path from source to target in the shortest, quickest possible way. From talking to Performance Analysts, we know that this is not always the case - sometimes content is designed so that users have to access content over multiple pages, before landing on a target page. \n",
    "\n",
    "Conclusions: This seems to work OK for accounts domain. But, there can be many paths with the same length, so would need a way to disentangle these paths. In addition, this is unlikely to scale, due to the above assumption. \n",
    "\n",
    "`Rank via pageRank`: \n",
    "\n",
    "Method: Calculates pageRank for each page in the network. Sums all pageRanks in a simple path, then creates a proportion in relation to the number of pages in the path. Orders in descending order.\n",
    "\n",
    "Assumptions: This assumes that important pages are more likely to receive more links from other pages. This may not always be the case, for example, contact us pages are likely to receive many links from all pages, but likely is not part of an intended user journey. \n",
    "\n",
    "Conclusions: Given the above assumption, the highly ranked paths include pages that are likely not part of an intended journey (such as 'https://signin.account.gov.uk/contact-us')\n",
    "\n",
    "`Rank via closeness centrality`:\n",
    "\n",
    "Method: Average distance all other nodes. Calculates this for each page in the network. Sums all closeness centrality values in a simple path, then creates a proportion in relation to the number of pages in the path. Orders in descending order.\n",
    "\n",
    "Assumptions: Pages in an intended journey should be close to all other nodes in the network. This is unlikely the case. There may be two unique intended journeys in a network, with no overlapping nodes. \n",
    "\n",
    "Conclusions: Similar to pageRank, the hihgly ranked paths include pages that are likely not part of an intended journey, because they link directly to many pages. \n",
    "\n",
    "`Rank via betweenness centrality`: \n",
    "\n",
    "Method: Calculates shortest paths between all pairs of nodes. Calculates this for each page in the network. Sums all betweenness centrality values in a simple path, then creates a proportion in relation to the number of pages in the path. Orders in descending order.\n",
    "\n",
    "Assumptions: Therefore, it is often used to find nodes that serve as a bridge from one part of a graph to another. This it is unlikely to suit identifying intended journeys, as intended journeys are likely to be unique, rather than include pages that sit over many intended pages. \n",
    "\n",
    "Conclusions: Similar to pageRank, the highly ranked paths include pages that are likely not part of an intended journey, because they link directly to many pages, and therefore are more likely to 'bridge' over many intended journeys. \n",
    "\n",
    "`Rank via eigenvector centrality`:\n",
    "\n",
    "Method: The centrality score for each node is derived from the scores of its incoming neighbours. A high eigenvector score means that a node is connected to many nodes who themselves have high scores. Calculates this for each page in the network. Sums all eigenvector centrality values in a simple path, then creates a proportion in relation to the number of pages in the path. Orders in descending order.\n",
    "\n",
    "Assumptions: Pages with many hyperlinks to other pages with many hyperlinks will have high scores. This, again, is unlikely for intended journeys as we would expect that intended journey pages will not link to many other pages (for example, a sign-up process). \n",
    "\n",
    "Conclusions: Similar to pageRank, the highly ranked paths include pages that are likely not part of an intended journey, because they link directly to many pages that also link to many other pages."
   ]
  },
  {
   "cell_type": "markdown",
   "metadata": {},
   "source": [
    "### Import modules"
   ]
  },
  {
   "cell_type": "code",
   "execution_count": null,
   "metadata": {},
   "outputs": [],
   "source": [
    "import os\n",
    "\n",
    "import compare_journeys\n",
    "import format_journeys\n",
    "import networkx as nx\n",
    "from dotenv import load_dotenv\n",
    "\n",
    "import src.utils.analyse_intended_journeys\n",
    "from src.make_data.create_intended_journeys import find_simple_paths, rank_simple_paths"
   ]
  },
  {
   "cell_type": "markdown",
   "metadata": {},
   "source": [
    "### Load data and assign variables"
   ]
  },
  {
   "cell_type": "code",
   "execution_count": null,
   "metadata": {},
   "outputs": [],
   "source": [
    "load_dotenv()\n",
    "DIR_DATA_PROCESSED = os.environ.get(\"DIR_DATA_PROCESSED\")\n",
    "DIR_DATA_INTERIM = os.environ.get(\"DIR_DATA_INTERIM\")\n",
    "G_structural = nx.read_gpickle(os.path.join(DIR_DATA_PROCESSED, \"G_structural.gpickle\"))\n",
    "G_functional = nx.read_gpickle(\n",
    "    os.path.join(DIR_DATA_INTERIM, \"user_journeys_df.gpickle\")\n",
    ")"
   ]
  },
  {
   "cell_type": "code",
   "execution_count": null,
   "metadata": {},
   "outputs": [],
   "source": [
    "# Set all source to target variables that simple paths should be calculated for. Note that a source and target pair\n",
    "# is considered, for example, source[0] target[0], and source[1] target[1]; rather than source[0] target[1] or\n",
    "# source[1] target[2]\n",
    "\n",
    "source = [\n",
    "    \"https://www.gov.uk/email/subscriptions/single-page/new\",\n",
    "    \"https://www.gov.uk/email/subscriptions/account/confirm\",\n",
    "]\n",
    "target = [\n",
    "    \"https://www.gov.uk/email/subscriptions/account/confirm\",\n",
    "    \"https://account.gov.uk/delete-account\",\n",
    "]\n",
    "\n",
    "# Do not include any paths that contain the following pages\n",
    "exclude_pages = [\n",
    "    \"https://signin.account.gov.uk/contact-us\",\n",
    "    \"https://signin.account.gov.uk/signed-out\",\n",
    "    \"https://account.gov.uk/delete-account\",\n",
    "]\n",
    "\n",
    "# Only paths of length <= cutoff are returned. If all paths are to be returned, leave blank\n",
    "cutoff = 5\n",
    "\n",
    "# Choose ranking method. See above for method, assumptions, and conclusions for each ranking method\n",
    "method = \"shortest\"  # 'shortest', 'pageRank', 'betweenness', 'closeness', 'eigenvector'"
   ]
  },
  {
   "cell_type": "markdown",
   "metadata": {},
   "source": [
    "### Find and rank all simple paths from source(s) to target(s)"
   ]
  },
  {
   "cell_type": "code",
   "execution_count": null,
   "metadata": {},
   "outputs": [],
   "source": [
    "all_simple_paths = find_simple_paths(\n",
    "    source, target, G_structural, exclude_pages, cutoff, verbose=1\n",
    ")"
   ]
  },
  {
   "cell_type": "code",
   "execution_count": null,
   "metadata": {},
   "outputs": [],
   "source": [
    "all_simple_paths_ranked = rank_simple_paths(\n",
    "    method, G_structural, all_simple_paths, verbose=1\n",
    ")"
   ]
  },
  {
   "cell_type": "markdown",
   "metadata": {},
   "source": [
    "### Compare networks"
   ]
  },
  {
   "cell_type": "code",
   "execution_count": null,
   "metadata": {},
   "outputs": [],
   "source": [
    "functional_user_journeys, structural_user_journeys = format_journeys(\n",
    "    G_functional, G_structural\n",
    ")"
   ]
  },
  {
   "cell_type": "code",
   "execution_count": null,
   "metadata": {},
   "outputs": [],
   "source": [
    "same_journeys_df, struct_journeys_not_appear = compare_journeys(\n",
    "    functional_user_journeys, structural_user_journeys\n",
    ")"
   ]
  }
 ],
 "metadata": {
  "language_info": {
   "codemirror_mode": {
    "name": "ipython",
    "version": 3
   },
   "file_extension": ".py",
   "mimetype": "text/x-python",
   "name": "python",
   "nbconvert_exporter": "python",
   "pygments_lexer": "ipython3",
   "version": "3.8.9"
  },
  "vscode": {
   "interpreter": {
    "hash": "4221631b2d07d818ce397436fbec453651cd947c70a5dae84b7c7b1bf8b4670e"
   }
  }
 },
 "nbformat": 4,
 "nbformat_minor": 2
}
