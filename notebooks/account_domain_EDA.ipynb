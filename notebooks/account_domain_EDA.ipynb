{
 "cells": [
  {
   "cell_type": "markdown",
   "metadata": {},
   "source": [
    "# Exploratory Data Analysis of User Journeys Across Domains. \n",
    "- Exploring user journeys where user sessions travel across the `www.gov.uk` domain to \n",
    "  `account.gov.uk` and/or `signin.account.gov.uk`.\n",
    "\n",
    "- Requirements: Google BigQuery credentials "
   ]
  },
  {
   "cell_type": "markdown",
   "metadata": {},
   "source": [
    "### 1.0 Import packages and authentication"
   ]
  },
  {
   "cell_type": "code",
   "execution_count": null,
   "metadata": {},
   "outputs": [],
   "source": [
    "# Imports\n",
    "import pandas as pd\n",
    "import seaborn as sns\n",
    "from google.cloud import bigquery\n",
    "from google.colab import auth\n",
    "\n",
    "# Authenticate the user - follow the link and the prompts to get an authentication token\n",
    "auth.authenticate_user()"
   ]
  },
  {
   "cell_type": "markdown",
   "metadata": {},
   "source": [
    "### 2.0 Load and prepare data"
   ]
  },
  {
   "cell_type": "code",
   "execution_count": null,
   "metadata": {},
   "outputs": [],
   "source": [
    "query = \"\"\"\n",
    "/*\n",
    "    Retrieves all page hits from sessions that go from govuk to visit at least one cross-domain\n",
    "    page and then back to govuk, from Google BigQuery.\n",
    "        - URL parameteres/anchors are removed from the page paths, as we are only\n",
    "          interested in the the page path.\n",
    "        - Only page hits are included\n",
    "        - Print pages are not included\n",
    "        - Truncate URLs of 'simple_smart_answer', 'local_transaction', 'special_route',\n",
    "          'licence', 'transaction', and 'Extension' document types, e.g.\n",
    "          \"/claim-tax-refund/y\" TO \"/claim-tax-refund\". This is because we are not\n",
    "          interested in the user's response, only the page.\n",
    "    Args:\n",
    "       - start_date: the start date for the session hit data\n",
    "       - end_date: the end date for the session hit data\n",
    "       - seed_hosts: a list of URL slugs that host the cross-domain data\n",
    "\n",
    "    Returns:\n",
    "       - A table containing all PAGE hit session data that visits govuk, then\n",
    "         visits a cross-domain page, then returns to govuk.\n",
    "*/\n",
    "\n",
    "DECLARE start_date STRING DEFAULT '20220218';\n",
    "DECLARE end_date STRING DEFAULT '20220224';\n",
    "\n",
    "DECLARE seed_hosts ARRAY <STRING>;\n",
    "SET seed_hosts = ['account.gov.uk', 'signin.account.gov.uk'];\n",
    "\n",
    "WITH \n",
    "\n",
    "primary_data AS (\n",
    "    SELECT\n",
    "        hits.hitNumber,\n",
    "        TIMESTAMP_MILLIS(CAST(hits.time + (visitStartTime * 1000) AS INT64)) AS dateTime,\n",
    "        REGEXP_REPLACE(hits.page.pagePath, r'[?#].*', '') AS pagePath,\n",
    "        clientId,\n",
    "        CONCAT(fullVisitorId, \"-\", CAST(visitId AS STRING)) AS sessionId,\n",
    "        hits.page.hostname,\n",
    "        (SELECT value FROM hits.customDimensions WHERE index = 2) AS documentType\n",
    "    FROM `govuk-bigquery-analytics.87773428.ga_sessions_*`\n",
    "    CROSS JOIN UNNEST(hits) AS hits\n",
    "    WHERE\n",
    "        _TABLE_SUFFIX BETWEEN start_date AND end_date \n",
    "        AND hits.page.pagePath NOT LIKE \"/print%\"\n",
    "        AND hits.type = 'PAGE'\n",
    "    ),\n",
    "\n",
    "-- truncate URLs of certain document types\n",
    "sessions_truncate_urls AS (\n",
    "    SELECT * REPLACE (\n",
    "        CASE\n",
    "            WHEN documentType IN ('smart_answer', 'simple_smart_answer', 'local_transaction', 'special_route', 'licence', 'transaction', 'Extension')\n",
    "            THEN REGEXP_EXTRACT(pagePath, r\"^/[^/]+\")\n",
    "            ELSE pagePath\n",
    "        END AS pagePath\n",
    "    )\n",
    "    FROM primary_data\n",
    "),\n",
    "\n",
    "-- sessions which visit at least one `seed_hosts`\n",
    "sessions_with_seed AS (\n",
    "    SELECT DISTINCT\n",
    "        sessionId\n",
    "    FROM sessions_truncate_urls\n",
    "    WHERE hostname IN UNNEST(seed_hosts)\n",
    "    GROUP BY sessionId, pagePath\n",
    "), \n",
    "\n",
    "-- all session data (page hits) that visit at least one `seed_hosts`\n",
    "all_session_data AS (\n",
    "    SELECT\n",
    "        clientId,\n",
    "        sessionId,\n",
    "        hitNumber,\n",
    "        dateTime,\n",
    "        pagePath,\n",
    "        hostname\n",
    "    FROM sessions_truncate_urls\n",
    "    WHERE sessionId IN (SELECT sessionId FROM sessions_with_seed)\n",
    "),\n",
    "\n",
    "-- create row number for each session (i.e. create a new hitNumber)\n",
    "create_row_number AS (\n",
    "    SELECT\n",
    "        *,\n",
    "        ROW_NUMBER() OVER (PARTITION BY sessionId ORDER BY hitNumber) AS rowNumber\n",
    "    FROM all_session_data\n",
    "    ORDER BY sessionId, hitNumber, clientId\n",
    "),\n",
    "\n",
    "-- get rank for each hostname, group by sessionId\n",
    "rank_hostnames AS (\n",
    "    SELECT \n",
    "        *,\n",
    "        DENSE_RANK() OVER (PARTITION BY sessionId ORDER BY hostName DESC) AS rank\n",
    "    FROM create_row_number\n",
    "    ORDER BY sessionId, hitNumber, clientId\n",
    "),\n",
    "\n",
    "-- only keep ranks where the LAG rank is different or rowNumber= 1\n",
    "lag_ranks AS (\n",
    "    SELECT\n",
    "        *,\n",
    "        IF((rowNumber = 1) OR (LAG(rank) OVER (PARTITION BY sessionId ORDER BY hitNumber ASC) != rank), TRUE, FALSE) AS preceedingRank\n",
    "    FROM rank_hostnames\n",
    "),\n",
    "\n",
    "-- select distinct hostnames as defined by whether the preceeding rank is different to the current rank \n",
    "distinct_hostnames AS (\n",
    "    SELECT\n",
    "        *\n",
    "    FROM lag_ranks\n",
    "    WHERE preceedingRank\n",
    "    ORDER BY sessionId, hitNumber, clientId\n",
    "),\n",
    "\n",
    "-- count the number of hostnames for each session  \n",
    "count_hostnames AS (\n",
    "    SELECT\n",
    "        *,\n",
    "        COUNT(hostName) OVER (PARTITION BY sessionId, hostName) AS countHostNamePerSession\n",
    "    FROM distinct_hostnames\n",
    "    ORDER BY sessionId, hitNumber, clientId\n",
    "),\n",
    "\n",
    "-- select sessions where gov.uk is visited at least twice \n",
    "govuk_visits AS (\n",
    "    SELECT\n",
    "        * \n",
    "    FROM count_hostnames\n",
    "    WHERE hostName = 'www.gov.uk' \n",
    "        AND countHostNamePerSession >= 2\n",
    "),\n",
    "\n",
    "-- select sessions which visit a cross domain at least once \n",
    "cross_domain_visits AS (\n",
    "    SELECT\n",
    "        *\n",
    "    FROM count_hostnames\n",
    "    WHERE (hostName = 'signin.account.gov.uk' OR hostName = 'account.gov.uk') \n",
    "        AND countHostNamePerSession >= 1\n",
    "    ORDER BY sessionId, hitNumber, clientId\n",
    "),\n",
    "\n",
    "-- only keep sessionIds that are in both govuk_visits and crossdomain_visits\n",
    "session_ids AS ( \n",
    "    SELECT DISTINCT\n",
    "        govuk_visits.sessionId\n",
    "    FROM govuk_visits\n",
    "    INNER JOIN cross_domain_visits \n",
    "        ON govuk_visits.sessionId = cross_domain_visits.sessionId\n",
    "    ORDER BY sessionId\n",
    ")\n",
    "\n",
    "-- get all page hit data where sessionIds are in both govuk_visits and cross_domain_visits \n",
    "SELECT\n",
    "    *\n",
    "FROM create_row_number\n",
    "WHERE sessionId IN (SELECT sessionId FROM session_ids)\n",
    "ORDER BY sessionId, hitNumber, clientId\n",
    "\"\"\""
   ]
  },
  {
   "cell_type": "code",
   "execution_count": null,
   "metadata": {},
   "outputs": [],
   "source": [
    "# Initialise a Google BigQuery client\n",
    "client = bigquery.Client(project=\"govuk-bigquery-analytics\", location=\"EU\")\n",
    "\n",
    "# Dry run the query, asking for user input to confirm the query execution size is okay\n",
    "bytes_processed = client.query(\n",
    "    query,\n",
    "    job_config=bigquery.QueryJobConfig(dry_run=True)\n",
    ").total_bytes_processed\n",
    "\n",
    "# Compile a message, and flag to the user for a response; if not \"yes\", terminate execution\n",
    "user_message = (\n",
    "    f\"This query will process {bytes_processed / (1024 ** 3):.1f} GB when run, \"\n",
    "    + f\"which is approximately ${bytes_processed / (1024 ** 4)*5:.3f}. Continue ([yes])? \"\n",
    ")\n",
    "if input(user_message).lower() != \"yes\":\n",
    "    raise RuntimeError(\"Stopped execution!\")\n",
    "\n",
    "# Execute the query, and return as a pandas.DataFrame\n",
    "df = client.query(query).to_dataframe()"
   ]
  },
  {
   "cell_type": "code",
   "execution_count": null,
   "metadata": {},
   "outputs": [],
   "source": [
    "df.info()"
   ]
  },
  {
   "cell_type": "code",
   "execution_count": null,
   "metadata": {},
   "outputs": [],
   "source": [
    "df.head()"
   ]
  },
  {
   "cell_type": "markdown",
   "metadata": {},
   "source": [
    "### 3.0 Research Questions"
   ]
  },
  {
   "cell_type": "markdown",
   "metadata": {},
   "source": [
    "##### 3.1   How many sessions visit the different domains?"
   ]
  },
  {
   "cell_type": "code",
   "execution_count": null,
   "metadata": {},
   "outputs": [],
   "source": [
    "# Number of unique sessions\n",
    "df.sessionId.nunique()"
   ]
  },
  {
   "cell_type": "code",
   "execution_count": null,
   "metadata": {},
   "outputs": [],
   "source": [
    "# Number of unique sessions for each hostname \n",
    "data = pd.DataFrame(df.groupby('hostname').sessionId.nunique()).reset_index()\n",
    "\n",
    "ax = sns.barplot(x=\"hostname\", y=\"sessionId\", data=data, hue=\"hostname\", dodge=False)\n",
    "ax.set_xlabel(\"Domain\")\n",
    "ax.set_ylabel(\"Session count\")\n",
    "ax.legend_.remove()\n",
    "ax.figure.set_size_inches(10,5)\n",
    "\n",
    "data"
   ]
  },
  {
   "cell_type": "markdown",
   "metadata": {},
   "source": [
    "##### 3.2   How many sessions visit a page path?"
   ]
  },
  {
   "cell_type": "code",
   "execution_count": null,
   "metadata": {},
   "outputs": [],
   "source": [
    "data = pd.DataFrame(df.groupby(['pagePath', 'hostname']).sessionId.nunique().sort_values(ascending=False)).reset_index()\n",
    "data.head(20)"
   ]
  },
  {
   "cell_type": "code",
   "execution_count": null,
   "metadata": {},
   "outputs": [],
   "source": [
    "# Distribution of the number of sessionIds that visit a pagePath, i.e. most pagePaths are only visisted during 1 or 2 sessions\n",
    "ax = sns.histplot(data=data, x=data['sessionId'], bins=120, hue=\"hostname\", element=\"step\")\n",
    "ax.set_xlim(0, 20)\n",
    "ax.set_xlabel(\"sessionId counts\")\n",
    "ax.figure.set_size_inches(10,5)"
   ]
  },
  {
   "cell_type": "markdown",
   "metadata": {},
   "source": [
    "##### 3.3 What are the unique journeys?"
   ]
  },
  {
   "cell_type": "code",
   "execution_count": null,
   "metadata": {},
   "outputs": [],
   "source": [
    "data = df.groupby(['sessionId'])['pagePath'].apply(', '.join).reset_index()\n",
    "data = pd.DataFrame(data.groupby(['pagePath']).sessionId.nunique().sort_values(ascending=False)).reset_index()\n",
    "data"
   ]
  },
  {
   "cell_type": "markdown",
   "metadata": {},
   "source": [
    "##### 3.3 How many pages in each domain? "
   ]
  },
  {
   "cell_type": "code",
   "execution_count": null,
   "metadata": {},
   "outputs": [],
   "source": [
    "# Number of pages in each domain \n",
    "data = pd.DataFrame(df.groupby('hostname').pagePath.nunique()).reset_index()\n",
    "data"
   ]
  },
  {
   "cell_type": "code",
   "execution_count": null,
   "metadata": {},
   "outputs": [],
   "source": [
    "# What pages exist in each domain \n",
    "data_account = pd.DataFrame(df.where(df['hostname'] == 'account.gov.uk')\n",
    "                      .groupby(['pagePath'])\n",
    "                      .sessionId.nunique()\n",
    "                      .sort_values(ascending=False)\n",
    "                      .reset_index()\n",
    "                   )\n",
    "\n",
    "data_signin = pd.DataFrame(df.where(df['hostname'] == 'signin.account.gov.uk')\n",
    "                      .groupby(['pagePath'])\n",
    "                      .sessionId.nunique()\n",
    "                      .sort_values(ascending=False)\n",
    "                      .reset_index()\n",
    "                   )\n",
    "\n",
    "data_gov = pd.DataFrame(df.where(df['hostname'] == 'www.gov.uk')\n",
    "                      .groupby(['pagePath'])\n",
    "                      .sessionId.nunique()\n",
    "                      .sort_values(ascending=False)\n",
    "                      .reset_index()\n",
    "                   )"
   ]
  },
  {
   "cell_type": "code",
   "execution_count": null,
   "metadata": {},
   "outputs": [],
   "source": [
    "ax = sns.histplot(data=data_account, x=data_account['sessionId'], bins=50)\n",
    "ax.set_xlabel(\"sessionId counts\")\n",
    "ax.figure.set_size_inches(10,5)\n",
    "\n",
    "data_account.head(10)"
   ]
  },
  {
   "cell_type": "code",
   "execution_count": null,
   "metadata": {},
   "outputs": [],
   "source": [
    "ax = sns.histplot(data=data_signin, x=data_signin['sessionId'], bins=50)\n",
    "ax.set_xlabel(\"sessionId counts\")\n",
    "ax.figure.set_size_inches(10,5)\n",
    "\n",
    "data_signin.head(10)"
   ]
  },
  {
   "cell_type": "code",
   "execution_count": null,
   "metadata": {},
   "outputs": [],
   "source": [
    "ax = sns.histplot(data=data_gov, x=data_gov['sessionId'], bins=100)\n",
    "ax.set_xlabel(\"sessionId counts\")\n",
    "ax.set_xlim(0, 40)\n",
    "ax.set_ylim(0, 200)\n",
    "\n",
    "ax.figure.set_size_inches(10,5)\n",
    "\n",
    "data_gov.head(10)"
   ]
  }
 ],
 "metadata": {
  "language_info": {
   "codemirror_mode": {
    "name": "ipython",
    "version": 3
   },
   "file_extension": ".py",
   "mimetype": "text/x-python",
   "name": "python",
   "nbconvert_exporter": "python",
   "pygments_lexer": "ipython3",
   "version": "3.9.13"
  },
  "vscode": {
   "interpreter": {
    "hash": "c80d2758b26975249355b59cb8d56044e48dd9fce0b45c61f6e398be5f8c0d67"
   }
  }
 },
 "nbformat": 4,
 "nbformat_minor": 0
}
